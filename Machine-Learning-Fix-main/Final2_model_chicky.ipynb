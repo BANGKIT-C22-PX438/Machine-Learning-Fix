{
 "cells": [
  {
   "cell_type": "code",
   "execution_count": 1,
   "metadata": {
    "id": "1EWpzbPETPqX"
   },
   "outputs": [],
   "source": [
    "import os\n",
    "import zipfile\n",
    "import shutil\n",
    "import numpy as np\n",
    "import pandas as pd\n",
    "import random\n",
    "import tensorflow as tf\n",
    "from shutil import copyfile\n",
    "from tensorflow.keras.preprocessing.image import ImageDataGenerator\n",
    "from tensorflow import keras \n",
    "import pathlib\n",
    "from shutil import copyfile\n",
    "import matplotlib.pyplot as plt"
   ]
  },
  {
   "cell_type": "code",
   "execution_count": 2,
   "metadata": {
    "colab": {
     "base_uri": "https://localhost:8080/",
     "height": 346
    },
    "id": "vlvP_BLwTZxA",
    "outputId": "735b212c-939f-4f2f-f357-93bd38814829"
   },
   "outputs": [
    {
     "name": "stdout",
     "output_type": "stream",
     "text": [
      "Zip is done extracting!\n"
     ]
    }
   ],
   "source": [
    "with zipfile.ZipFile('Chicken-Copy1.zip.zip', 'r') as zip_ref:\n",
    "  zip_ref.extractall('./Dataset_refurbish')\n",
    "  print('Zip is done extracting!')"
   ]
  },
  {
   "cell_type": "code",
   "execution_count": 3,
   "metadata": {
    "id": "9nZf8XS0T5nI"
   },
   "outputs": [
    {
     "name": "stdout",
     "output_type": "stream",
     "text": [
      "['Coccidiosis', 'Healthy', 'New Castle Disease', 'Salmonella']\n"
     ]
    }
   ],
   "source": [
    "labels = pd.read_csv('./Dataset_refurbish/train_data.csv')\n",
    "labels = labels.sort_values('label')\n",
    "\n",
    "class_names = list(labels.label.unique())\n",
    "\n",
    "print(class_names)\n",
    "\n",
    "train_images = './Dataset_refurbish/Train'\n",
    "train_cat = './Data_train/train'\n",
    "\n",
    "# Empty directory to prevent FileExistsError is the function is run several times\n",
    "if os.path.exists(train_cat):\n",
    "  shutil.rmtree(train_cat)\n",
    "\n",
    "def create_data_category(root_path):\n",
    "  for i in class_names:\n",
    "    os.makedirs(os.path.join(root_path, i))\n",
    "\n",
    "try:\n",
    "  create_data_category(root_path=train_cat)\n",
    "except FileExistsError:\n",
    "  print(\"You should not be seeing this since the upper directory is removed beforehand\")"
   ]
  },
  {
   "cell_type": "code",
   "execution_count": 4,
   "metadata": {
    "id": "0SpFa-oVMZcy"
   },
   "outputs": [],
   "source": [
    "cocci = \"./Data_train/train/Coccidiosis/\"\n",
    "healthy = \"./Data_train/train/Healthy/\"\n",
    "ncd = \"./Data_train/train/New Castle Disease/\"\n",
    "salmon = \"./Data_train/train/Salmonella/\"\n"
   ]
  },
  {
   "cell_type": "code",
   "execution_count": 5,
   "metadata": {
    "id": "RCJ0VdwqNbxW"
   },
   "outputs": [
    {
     "name": "stdout",
     "output_type": "stream",
     "text": [
      "550\n",
      "550\n",
      "550\n",
      "550\n"
     ]
    }
   ],
   "source": [
    "# Empty directories in case you run this cell multiple times\n",
    "if len(os.listdir(cocci)) > 0:\n",
    "  for file in os.scandir(cocci):\n",
    "    os.remove(file.path)\n",
    "if len(os.listdir(healthy)) > 0:\n",
    "  for file in os.scandir(healthy):\n",
    "    os.remove(file.path)\n",
    "if len(os.listdir(ncd)) > 0:\n",
    "  for file in os.scandir(ncd):\n",
    "    os.remove(file.path)\n",
    "if len(os.listdir(salmon)) > 0:\n",
    "  for file in os.scandir(salmon):\n",
    "    os.remove(file.path)\n",
    "\n",
    "# moving the image files to their respective categories\n",
    "for c in class_names: # Category Name\n",
    "    for i in list(labels[labels['label']==c]['images']): # Image Id\n",
    "        get_image = os.path.join('./Dataset_refurbish/Train/', i) # Path to Images \n",
    "        if len(os.listdir('./Data_train/train/'+c)) < 550:\n",
    "          move_image_to_cat = shutil.move(get_image, './Data_train/train/'+c)\n",
    "\n",
    "\n",
    "print(len(os.listdir(cocci)))\n",
    "print(len(os.listdir(healthy)))\n",
    "print(len(os.listdir(ncd)))\n",
    "print(len(os.listdir(salmon)))"
   ]
  },
  {
   "cell_type": "code",
   "execution_count": 6,
   "metadata": {},
   "outputs": [],
   "source": [
    "# Define root directory\n",
    "root_dir = './Data_refurbish'\n",
    "\n",
    "# Empty directory to prevent FileExistsError is the function is run several times\n",
    "if os.path.exists(root_dir):\n",
    "  shutil.rmtree(root_dir)\n",
    "\n",
    "def create_train_test_dirs(root_path):\n",
    "  os.makedirs(os.path.join(root_path,'testing/Coccidiosis'))\n",
    "  os.makedirs(os.path.join(root_path,'testing/Healthy'))\n",
    "  os.makedirs(os.path.join(root_path,'testing/New Castle Disease'))\n",
    "  os.makedirs(os.path.join(root_path,'testing/Salmonella'))\n",
    "  os.makedirs(os.path.join(root_path,'training/Coccidiosis'))\n",
    "  os.makedirs(os.path.join(root_path,'training/Healthy'))\n",
    "  os.makedirs(os.path.join(root_path,'training/New Castle Disease'))\n",
    "  os.makedirs(os.path.join(root_path,'training/Salmonella'))\n",
    "  os.makedirs(os.path.join(root_path,'validation/Coccidiosis'))\n",
    "  os.makedirs(os.path.join(root_path,'validation/Healthy'))\n",
    "  os.makedirs(os.path.join(root_path,'validation/New Castle Disease'))\n",
    "  os.makedirs(os.path.join(root_path,'validation/Salmonella'))\n",
    "\n",
    "try:\n",
    "  create_train_test_dirs(root_path=root_dir)\n",
    "except FileExistsError:\n",
    "  print(\"You should not be seeing this since the upper directory is removed beforehand\")"
   ]
  },
  {
   "cell_type": "code",
   "execution_count": 7,
   "metadata": {},
   "outputs": [],
   "source": [
    "def split_data(SOURCE, TRAINING, TESTING, SPLIT_SIZE):\n",
    "\n",
    "  dir = []\n",
    "  for name in os.listdir(SOURCE):\n",
    "    file = SOURCE + name\n",
    "    if os.path.getsize(file) > 0:\n",
    "      dir.append(name)\n",
    "    else:\n",
    "      print(name + \" is zero length, so ignoring.\")\n",
    "    train_length = int(len(dir) * SPLIT_SIZE)\n",
    "    test_length = int(len(dir) - train_length)\n",
    "    shuffeld = random.sample(dir, len(dir))\n",
    "    train_set = shuffeld[0:train_length]\n",
    "    test_set = shuffeld[-test_length:]\n",
    "  \n",
    "  for name in train_set:\n",
    "    source = SOURCE + name\n",
    "    destination = TRAINING + name\n",
    "    copyfile(source, destination)\n",
    "\n",
    "  for name in test_set:\n",
    "    source = SOURCE + name\n",
    "    destination = TESTING + name\n",
    "    copyfile(source, destination)"
   ]
  },
  {
   "cell_type": "code",
   "execution_count": 8,
   "metadata": {},
   "outputs": [
    {
     "name": "stdout",
     "output_type": "stream",
     "text": [
      "\n",
      "\n",
      "There are 440 images of cocci for training\n",
      "There are 440 images of healthy for training\n",
      "There are 440 images of ncd for training\n",
      "There are 440 images of salmon for training\n",
      "There are 110 images of cocci for testing\n",
      "There are 110 images of healthy for testing\n",
      "There are 110 images of ncd for testing\n",
      "There are 110 images of salmon for testing\n"
     ]
    }
   ],
   "source": [
    "import random\n",
    "from shutil import copyfile\n",
    "TRAINING_DIR = \"./Data_refurbish/training/\"\n",
    "TESTING_DIR = \"./Data_refurbish/testing/\"\n",
    "VALIDATION_DIR = \"./Data_refurbish/validation/\"\n",
    "\n",
    "TRAINING_COCCI_DIR = os.path.join(TRAINING_DIR, \"Coccidiosis/\")\n",
    "TESTING_COCCI_DIR = os.path.join(TESTING_DIR, \"Coccidiosis/\")\n",
    "VALIDATION_COCCI_DIR = os.path.join(VALIDATION_DIR, \"Coccidiosis/\")\n",
    "\n",
    "TRAINING_HEALTHY_DIR = os.path.join(TRAINING_DIR, \"Healthy/\")\n",
    "TESTING_HEALTHY_DIR = os.path.join(TESTING_DIR, \"Healthy/\")\n",
    "VALIDATION_HEALTHY_DIR = os.path.join(VALIDATION_DIR, \"Healthy/\")\n",
    "\n",
    "TRAINING_NCD_DIR = os.path.join(TRAINING_DIR, \"New Castle Disease/\")\n",
    "TESTING_NCD_DIR = os.path.join(TESTING_DIR, \"New Castle Disease/\")\n",
    "VALIDATION_NCD_DIR = os.path.join(VALIDATION_DIR, \"New Castle Disease/\")\n",
    "\n",
    "TRAINING_SALMON_DIR = os.path.join(TRAINING_DIR, \"Salmonella/\")\n",
    "TESTING_SALMON_DIR = os.path.join(TESTING_DIR, \"Salmonella/\")\n",
    "VALIDATION_SALMON_DIR = os.path.join(VALIDATION_DIR, \"Salmonella/\")\n",
    "\n",
    "if len(os.listdir(TRAINING_COCCI_DIR)) > 0:\n",
    "  for file in os.scandir(TRAINING_COCCI_DIR):\n",
    "    os.remove(file.path)\n",
    "if len(os.listdir(TRAINING_HEALTHY_DIR)) > 0:\n",
    "  for file in os.scandir(TRAINING_HEALTHY_DIR):\n",
    "    os.remove(file.path)\n",
    "if len(os.listdir(TRAINING_NCD_DIR)) > 0:\n",
    "  for file in os.scandir(TRAINING_NCD_DIR):\n",
    "    os.remove(file.path)\n",
    "if len(os.listdir(TRAINING_SALMON_DIR)) > 0:\n",
    "  for file in os.scandir(TRAINING_SALMON_DIR):\n",
    "    os.remove(file.path)\n",
    "\n",
    "if len(os.listdir(TESTING_COCCI_DIR)) > 0:\n",
    "  for file in os.scandir(TESTING_COCCI_DIR):\n",
    "    os.remove(file.path)\n",
    "if len(os.listdir(TESTING_HEALTHY_DIR)) > 0:\n",
    "  for file in os.scandir(TESTING_HEALTHY_DIR):\n",
    "    os.remove(file.path)\n",
    "if len(os.listdir(TESTING_NCD_DIR)) > 0:\n",
    "  for file in os.scandir(TESTING_NCD_DIR):\n",
    "    os.remove(file.path)\n",
    "if len(os.listdir(TESTING_SALMON_DIR)) > 0:\n",
    "  for file in os.scandir(TESTING_SALMON_DIR):\n",
    "    os.remove(file.path)\n",
    "\n",
    "\n",
    "\n",
    "    \n",
    "split_size = .8\n",
    "\n",
    "# Run the function\n",
    "# NOTE: Messages about zero length images should be printed out\n",
    "split_data(cocci, TRAINING_COCCI_DIR , TESTING_COCCI_DIR, split_size)\n",
    "split_data(healthy, TRAINING_HEALTHY_DIR, TESTING_HEALTHY_DIR, split_size)\n",
    "split_data(ncd, TRAINING_NCD_DIR, TESTING_NCD_DIR, split_size)\n",
    "split_data(salmon, TRAINING_SALMON_DIR, TESTING_SALMON_DIR, split_size)\n",
    "\n",
    "\n",
    "# Check that the number of images matches the expected output\n",
    "print(f\"\\n\\nThere are {len(os.listdir(TRAINING_COCCI_DIR))} images of cocci for training\")\n",
    "print(f\"There are {len(os.listdir(TRAINING_HEALTHY_DIR))} images of healthy for training\")\n",
    "print(f\"There are {len(os.listdir(TRAINING_NCD_DIR))} images of ncd for training\")\n",
    "print(f\"There are {len(os.listdir(TRAINING_SALMON_DIR))} images of salmon for training\")\n",
    "\n",
    "print(f\"There are {len(os.listdir(TESTING_COCCI_DIR))} images of cocci for testing\")\n",
    "print(f\"There are {len(os.listdir(TESTING_HEALTHY_DIR))} images of healthy for testing\")\n",
    "print(f\"There are {len(os.listdir(TESTING_NCD_DIR))} images of ncd for testing\")\n",
    "print(f\"There are {len(os.listdir(TESTING_SALMON_DIR))} images of salmon for testing\")"
   ]
  },
  {
   "cell_type": "code",
   "execution_count": 9,
   "metadata": {
    "id": "Uu_kB3N1Skn2"
   },
   "outputs": [],
   "source": [
    "def train_val_generators(TRAINING_DIR,VALIDATION_DIR):\n",
    "  train_datagen = ImageDataGenerator(rescale=1.0/255.0,\n",
    "                                    rotation_range = 40,\n",
    "                                    width_shift_range = 0.2,\n",
    "                                    height_shift_range = 0.2,\n",
    "                                    shear_range = 0.2,\n",
    "                                    zoom_range = 0.2,\n",
    "                                    horizontal_flip = True,\n",
    "                                    fill_mode = 'nearest')\n",
    "  train_generator = train_datagen.flow_from_directory(directory=TRAINING_DIR,\n",
    "                                                      batch_size =100,\n",
    "                                                      class_mode=\"sparse\",\n",
    "                                                      target_size=(224,224))\n",
    "  \n",
    "  validation_datagen = ImageDataGenerator(rescale=1.0/255.0)\n",
    "  validation_generator = validation_datagen.flow_from_directory(directory=VALIDATION_DIR,\n",
    "                                                               batch_size=100,\n",
    "                                                               class_mode = \"sparse\",\n",
    "                                                               target_size=(224,224))\n",
    "  \n",
    "  return train_generator,validation_generator\n",
    "\n"
   ]
  },
  {
   "cell_type": "code",
   "execution_count": 10,
   "metadata": {
    "id": "qSblhMO5T9Ak"
   },
   "outputs": [
    {
     "name": "stdout",
     "output_type": "stream",
     "text": [
      "Found 1760 images belonging to 4 classes.\n",
      "Found 440 images belonging to 4 classes.\n"
     ]
    }
   ],
   "source": [
    "train_generator,validation_generator = train_val_generators(TRAINING_DIR,TESTING_DIR)"
   ]
  },
  {
   "cell_type": "code",
   "execution_count": 11,
   "metadata": {},
   "outputs": [],
   "source": [
    "class Callback(tf.keras.callbacks.Callback):\n",
    "  def on_epoch_end(self,epoch,logs={}):\n",
    "    if(logs.get('loss') <= 0.12 and logs.get('val_loss') <=0.12):\n",
    "        print()\n",
    "        print(\"/n stop the training because the loss is already on target\")\n",
    "        self.model.stop_training=True"
   ]
  },
  {
   "cell_type": "code",
   "execution_count": 12,
   "metadata": {
    "id": "ODxxMKZJUG1c"
   },
   "outputs": [],
   "source": [
    "def create_model():\n",
    "  model = tf.keras.models.Sequential([\n",
    "    tf.keras.layers.Conv2D(32, (3,3), activation='relu', input_shape=(224, 224, 3)),\n",
    "    tf.keras.layers.MaxPooling2D(2,2),\n",
    "    tf.keras.layers.Conv2D(64, (3,3), activation='relu'),\n",
    "    tf.keras.layers.MaxPooling2D(2,2), \n",
    "    tf.keras.layers.Conv2D(128, (3,3), activation='relu'), \n",
    "    tf.keras.layers.MaxPooling2D(2,2),\n",
    "    tf.keras.layers.Conv2D(256, (3,3), activation='relu'),  \n",
    "    tf.keras.layers.MaxPooling2D(2,2),\n",
    "    tf.keras.layers.Flatten(), \n",
    "    tf.keras.layers.Dropout(0.5),\n",
    "    tf.keras.layers.Dense(512, activation='relu'), \n",
    "    tf.keras.layers.Dense(4, activation='softmax')  \n",
    "  ])\n",
    "\n",
    "  model.compile(optimizer=tf.keras.optimizers.Adam(learning_rate=0.001),\n",
    "                loss=\"sparse_categorical_crossentropy\",\n",
    "                metrics=['accuracy'])\n",
    "  return model"
   ]
  },
  {
   "cell_type": "code",
   "execution_count": 13,
   "metadata": {
    "id": "6YVxDqnaY4f9",
    "scrolled": false
   },
   "outputs": [
    {
     "name": "stdout",
     "output_type": "stream",
     "text": [
      "Epoch 1/100\n",
      "18/18 [==============================] - 82s 4s/step - loss: 1.4683 - accuracy: 0.3034 - val_loss: 1.6133 - val_accuracy: 0.3909\n",
      "Epoch 2/100\n",
      "18/18 [==============================] - 76s 4s/step - loss: 1.2445 - accuracy: 0.3847 - val_loss: 1.1183 - val_accuracy: 0.4227\n",
      "Epoch 3/100\n",
      "18/18 [==============================] - 74s 4s/step - loss: 1.0224 - accuracy: 0.5534 - val_loss: 0.9929 - val_accuracy: 0.6455\n",
      "Epoch 4/100\n",
      "18/18 [==============================] - 75s 4s/step - loss: 0.9199 - accuracy: 0.6267 - val_loss: 0.8748 - val_accuracy: 0.6477\n",
      "Epoch 5/100\n",
      "18/18 [==============================] - 72s 4s/step - loss: 0.8724 - accuracy: 0.6568 - val_loss: 0.8551 - val_accuracy: 0.6659\n",
      "Epoch 6/100\n",
      "18/18 [==============================] - 72s 4s/step - loss: 0.7874 - accuracy: 0.6852 - val_loss: 0.7773 - val_accuracy: 0.7136\n",
      "Epoch 7/100\n",
      "18/18 [==============================] - 73s 4s/step - loss: 0.7432 - accuracy: 0.6977 - val_loss: 0.6642 - val_accuracy: 0.7591\n",
      "Epoch 8/100\n",
      "18/18 [==============================] - 73s 4s/step - loss: 0.6771 - accuracy: 0.7591 - val_loss: 0.5909 - val_accuracy: 0.7818\n",
      "Epoch 9/100\n",
      "18/18 [==============================] - 72s 4s/step - loss: 0.6930 - accuracy: 0.7455 - val_loss: 0.6068 - val_accuracy: 0.7682\n",
      "Epoch 10/100\n",
      "18/18 [==============================] - 75s 4s/step - loss: 0.6242 - accuracy: 0.7608 - val_loss: 0.5641 - val_accuracy: 0.8023\n",
      "Epoch 11/100\n",
      "18/18 [==============================] - 74s 4s/step - loss: 0.5134 - accuracy: 0.8119 - val_loss: 0.5360 - val_accuracy: 0.8227\n",
      "Epoch 12/100\n",
      "18/18 [==============================] - 73s 4s/step - loss: 0.5469 - accuracy: 0.7977 - val_loss: 0.4561 - val_accuracy: 0.8273\n",
      "Epoch 13/100\n",
      "18/18 [==============================] - 72s 4s/step - loss: 0.4976 - accuracy: 0.8080 - val_loss: 0.4700 - val_accuracy: 0.8182\n",
      "Epoch 14/100\n",
      "18/18 [==============================] - 73s 4s/step - loss: 0.4770 - accuracy: 0.8227 - val_loss: 0.5209 - val_accuracy: 0.7932\n",
      "Epoch 15/100\n",
      "18/18 [==============================] - 75s 4s/step - loss: 0.4925 - accuracy: 0.8170 - val_loss: 0.4810 - val_accuracy: 0.8364\n",
      "Epoch 16/100\n",
      "18/18 [==============================] - 74s 4s/step - loss: 0.4865 - accuracy: 0.8170 - val_loss: 0.5469 - val_accuracy: 0.7818\n",
      "Epoch 17/100\n",
      "18/18 [==============================] - 71s 4s/step - loss: 0.4904 - accuracy: 0.8142 - val_loss: 0.4325 - val_accuracy: 0.8614\n",
      "Epoch 18/100\n",
      "18/18 [==============================] - 73s 4s/step - loss: 0.3950 - accuracy: 0.8557 - val_loss: 0.3489 - val_accuracy: 0.8727\n",
      "Epoch 19/100\n",
      "18/18 [==============================] - 74s 4s/step - loss: 0.4442 - accuracy: 0.8358 - val_loss: 0.3802 - val_accuracy: 0.8727\n",
      "Epoch 20/100\n",
      "18/18 [==============================] - 74s 4s/step - loss: 0.4012 - accuracy: 0.8511 - val_loss: 0.3943 - val_accuracy: 0.8659\n",
      "Epoch 21/100\n",
      "18/18 [==============================] - 73s 4s/step - loss: 0.4154 - accuracy: 0.8420 - val_loss: 0.4294 - val_accuracy: 0.8386\n",
      "Epoch 22/100\n",
      "18/18 [==============================] - 74s 4s/step - loss: 0.4447 - accuracy: 0.8324 - val_loss: 0.3968 - val_accuracy: 0.8545\n",
      "Epoch 23/100\n",
      "18/18 [==============================] - 74s 4s/step - loss: 0.4064 - accuracy: 0.8455 - val_loss: 0.5030 - val_accuracy: 0.8318\n",
      "Epoch 24/100\n",
      "18/18 [==============================] - 75s 4s/step - loss: 0.4140 - accuracy: 0.8489 - val_loss: 0.3484 - val_accuracy: 0.8955\n",
      "Epoch 25/100\n",
      "18/18 [==============================] - 78s 4s/step - loss: 0.3782 - accuracy: 0.8534 - val_loss: 0.3936 - val_accuracy: 0.8523\n",
      "Epoch 26/100\n",
      "18/18 [==============================] - 75s 4s/step - loss: 0.4036 - accuracy: 0.8472 - val_loss: 0.3741 - val_accuracy: 0.8705\n",
      "Epoch 27/100\n",
      "18/18 [==============================] - 74s 4s/step - loss: 0.3816 - accuracy: 0.8443 - val_loss: 0.3276 - val_accuracy: 0.8977\n",
      "Epoch 28/100\n",
      "18/18 [==============================] - 72s 4s/step - loss: 0.3670 - accuracy: 0.8528 - val_loss: 0.3202 - val_accuracy: 0.9023\n",
      "Epoch 29/100\n",
      "18/18 [==============================] - 74s 4s/step - loss: 0.3332 - accuracy: 0.8687 - val_loss: 0.3421 - val_accuracy: 0.8932\n",
      "Epoch 30/100\n",
      "18/18 [==============================] - 75s 4s/step - loss: 0.3117 - accuracy: 0.8790 - val_loss: 0.2858 - val_accuracy: 0.9114\n",
      "Epoch 31/100\n",
      "18/18 [==============================] - 74s 4s/step - loss: 0.2884 - accuracy: 0.8920 - val_loss: 0.2715 - val_accuracy: 0.9114\n",
      "Epoch 32/100\n",
      "18/18 [==============================] - 72s 4s/step - loss: 0.3195 - accuracy: 0.8710 - val_loss: 0.3600 - val_accuracy: 0.8886\n",
      "Epoch 33/100\n",
      "18/18 [==============================] - 74s 4s/step - loss: 0.3272 - accuracy: 0.8710 - val_loss: 0.3003 - val_accuracy: 0.9023\n",
      "Epoch 34/100\n",
      "18/18 [==============================] - 73s 4s/step - loss: 0.3063 - accuracy: 0.8841 - val_loss: 0.3267 - val_accuracy: 0.9000\n",
      "Epoch 35/100\n",
      "18/18 [==============================] - 73s 4s/step - loss: 0.3086 - accuracy: 0.8830 - val_loss: 0.3582 - val_accuracy: 0.8841\n",
      "Epoch 36/100\n",
      "18/18 [==============================] - 74s 4s/step - loss: 0.2892 - accuracy: 0.8892 - val_loss: 0.4317 - val_accuracy: 0.8432\n",
      "Epoch 37/100\n",
      "18/18 [==============================] - 73s 4s/step - loss: 0.2841 - accuracy: 0.8960 - val_loss: 0.2706 - val_accuracy: 0.9091\n",
      "Epoch 38/100\n",
      "18/18 [==============================] - 74s 4s/step - loss: 0.2673 - accuracy: 0.8955 - val_loss: 0.2542 - val_accuracy: 0.9250\n",
      "Epoch 39/100\n",
      "18/18 [==============================] - 75s 4s/step - loss: 0.2688 - accuracy: 0.9028 - val_loss: 0.2527 - val_accuracy: 0.9205\n",
      "Epoch 40/100\n",
      "18/18 [==============================] - 72s 4s/step - loss: 0.2841 - accuracy: 0.8949 - val_loss: 0.2489 - val_accuracy: 0.9136\n",
      "Epoch 41/100\n",
      "18/18 [==============================] - 73s 4s/step - loss: 0.2474 - accuracy: 0.9028 - val_loss: 0.3239 - val_accuracy: 0.8909\n",
      "Epoch 42/100\n",
      "18/18 [==============================] - 75s 4s/step - loss: 0.3229 - accuracy: 0.8795 - val_loss: 0.3463 - val_accuracy: 0.8818\n",
      "Epoch 43/100\n",
      "18/18 [==============================] - 75s 4s/step - loss: 0.2854 - accuracy: 0.8983 - val_loss: 0.2832 - val_accuracy: 0.9000\n",
      "Epoch 44/100\n",
      "18/18 [==============================] - 72s 4s/step - loss: 0.2720 - accuracy: 0.8875 - val_loss: 0.2787 - val_accuracy: 0.9000\n",
      "Epoch 45/100\n",
      "18/18 [==============================] - 73s 4s/step - loss: 0.2517 - accuracy: 0.9028 - val_loss: 0.2736 - val_accuracy: 0.9159\n",
      "Epoch 46/100\n",
      "18/18 [==============================] - 74s 4s/step - loss: 0.2635 - accuracy: 0.9085 - val_loss: 0.2634 - val_accuracy: 0.9182\n",
      "Epoch 47/100\n",
      "18/18 [==============================] - 74s 4s/step - loss: 0.2752 - accuracy: 0.8977 - val_loss: 0.2385 - val_accuracy: 0.9273\n",
      "Epoch 48/100\n",
      "18/18 [==============================] - 73s 4s/step - loss: 0.2512 - accuracy: 0.9125 - val_loss: 0.2552 - val_accuracy: 0.9205\n",
      "Epoch 49/100\n",
      "18/18 [==============================] - 75s 4s/step - loss: 0.2185 - accuracy: 0.9136 - val_loss: 0.2395 - val_accuracy: 0.9318\n",
      "Epoch 50/100\n",
      "18/18 [==============================] - 74s 4s/step - loss: 0.2419 - accuracy: 0.9006 - val_loss: 0.2576 - val_accuracy: 0.9250\n",
      "Epoch 51/100\n",
      "18/18 [==============================] - 73s 4s/step - loss: 0.2895 - accuracy: 0.8898 - val_loss: 0.2538 - val_accuracy: 0.9318\n",
      "Epoch 52/100\n",
      "18/18 [==============================] - 73s 4s/step - loss: 0.2663 - accuracy: 0.9011 - val_loss: 0.2652 - val_accuracy: 0.9182\n",
      "Epoch 53/100\n",
      "18/18 [==============================] - 75s 4s/step - loss: 0.2362 - accuracy: 0.9085 - val_loss: 0.3371 - val_accuracy: 0.8909\n",
      "Epoch 54/100\n",
      "18/18 [==============================] - 84s 5s/step - loss: 0.2513 - accuracy: 0.9040 - val_loss: 0.2789 - val_accuracy: 0.9205\n",
      "Epoch 55/100\n",
      "18/18 [==============================] - 88s 5s/step - loss: 0.2859 - accuracy: 0.8955 - val_loss: 0.2429 - val_accuracy: 0.9273\n",
      "Epoch 56/100\n",
      "18/18 [==============================] - 90s 5s/step - loss: 0.2345 - accuracy: 0.9091 - val_loss: 0.2346 - val_accuracy: 0.9227\n",
      "Epoch 57/100\n",
      "18/18 [==============================] - 89s 5s/step - loss: 0.2454 - accuracy: 0.9040 - val_loss: 0.2593 - val_accuracy: 0.9432\n",
      "Epoch 58/100\n",
      "18/18 [==============================] - 90s 5s/step - loss: 0.2469 - accuracy: 0.9074 - val_loss: 0.2666 - val_accuracy: 0.9205\n"
     ]
    },
    {
     "name": "stdout",
     "output_type": "stream",
     "text": [
      "Epoch 59/100\n",
      "18/18 [==============================] - 87s 5s/step - loss: 0.2270 - accuracy: 0.9244 - val_loss: 0.2352 - val_accuracy: 0.9295\n",
      "Epoch 60/100\n",
      "18/18 [==============================] - 90s 5s/step - loss: 0.2167 - accuracy: 0.9165 - val_loss: 0.2677 - val_accuracy: 0.9250\n",
      "Epoch 61/100\n",
      "18/18 [==============================] - 88s 5s/step - loss: 0.2317 - accuracy: 0.9142 - val_loss: 0.2038 - val_accuracy: 0.9432\n",
      "Epoch 62/100\n",
      "18/18 [==============================] - 90s 5s/step - loss: 0.1952 - accuracy: 0.9295 - val_loss: 0.2760 - val_accuracy: 0.9159\n",
      "Epoch 63/100\n",
      "18/18 [==============================] - 87s 5s/step - loss: 0.2498 - accuracy: 0.9085 - val_loss: 0.3051 - val_accuracy: 0.9136\n",
      "Epoch 64/100\n",
      "18/18 [==============================] - 88s 5s/step - loss: 0.1943 - accuracy: 0.9312 - val_loss: 0.2269 - val_accuracy: 0.9409\n",
      "Epoch 65/100\n",
      "18/18 [==============================] - 88s 5s/step - loss: 0.1755 - accuracy: 0.9381 - val_loss: 0.2081 - val_accuracy: 0.9432\n",
      "Epoch 66/100\n",
      "18/18 [==============================] - 75s 4s/step - loss: 0.1852 - accuracy: 0.9284 - val_loss: 0.3087 - val_accuracy: 0.9227\n",
      "Epoch 67/100\n",
      "18/18 [==============================] - 71s 4s/step - loss: 0.2087 - accuracy: 0.9250 - val_loss: 0.2398 - val_accuracy: 0.9386\n",
      "Epoch 68/100\n",
      "18/18 [==============================] - 74s 4s/step - loss: 0.1983 - accuracy: 0.9170 - val_loss: 0.2046 - val_accuracy: 0.9386\n",
      "Epoch 69/100\n",
      "18/18 [==============================] - 73s 4s/step - loss: 0.1877 - accuracy: 0.9318 - val_loss: 0.2244 - val_accuracy: 0.9409\n",
      "Epoch 70/100\n",
      "18/18 [==============================] - 72s 4s/step - loss: 0.1834 - accuracy: 0.9330 - val_loss: 0.2662 - val_accuracy: 0.9318\n",
      "Epoch 71/100\n",
      "18/18 [==============================] - 74s 4s/step - loss: 0.1402 - accuracy: 0.9477 - val_loss: 0.2011 - val_accuracy: 0.9545\n",
      "Epoch 72/100\n",
      "18/18 [==============================] - 75s 4s/step - loss: 0.1553 - accuracy: 0.9426 - val_loss: 0.2466 - val_accuracy: 0.9364\n",
      "Epoch 73/100\n",
      "18/18 [==============================] - 76s 4s/step - loss: 0.1522 - accuracy: 0.9426 - val_loss: 0.2166 - val_accuracy: 0.9500\n",
      "Epoch 74/100\n",
      "18/18 [==============================] - 81s 4s/step - loss: 0.1653 - accuracy: 0.9392 - val_loss: 0.3092 - val_accuracy: 0.9364\n",
      "Epoch 75/100\n",
      "18/18 [==============================] - 73s 4s/step - loss: 0.1793 - accuracy: 0.9347 - val_loss: 0.3096 - val_accuracy: 0.9273\n",
      "Epoch 76/100\n",
      "18/18 [==============================] - 82s 4s/step - loss: 0.2017 - accuracy: 0.9312 - val_loss: 0.2319 - val_accuracy: 0.9364\n",
      "Epoch 77/100\n",
      "18/18 [==============================] - 85s 5s/step - loss: 0.1702 - accuracy: 0.9341 - val_loss: 0.3609 - val_accuracy: 0.9068\n",
      "Epoch 78/100\n",
      "18/18 [==============================] - 91s 5s/step - loss: 0.2052 - accuracy: 0.9222 - val_loss: 0.2715 - val_accuracy: 0.9205\n",
      "Epoch 79/100\n",
      "18/18 [==============================] - 83s 5s/step - loss: 0.1633 - accuracy: 0.9477 - val_loss: 0.2693 - val_accuracy: 0.9364\n",
      "Epoch 80/100\n",
      "18/18 [==============================] - 76s 4s/step - loss: 0.1573 - accuracy: 0.9409 - val_loss: 0.2728 - val_accuracy: 0.9273\n",
      "Epoch 81/100\n",
      "18/18 [==============================] - 74s 4s/step - loss: 0.1469 - accuracy: 0.9460 - val_loss: 0.2253 - val_accuracy: 0.9477\n",
      "Epoch 82/100\n",
      "18/18 [==============================] - 78s 4s/step - loss: 0.1569 - accuracy: 0.9432 - val_loss: 0.2846 - val_accuracy: 0.9250\n",
      "Epoch 83/100\n",
      "18/18 [==============================] - 87s 5s/step - loss: 0.1845 - accuracy: 0.9295 - val_loss: 0.2717 - val_accuracy: 0.9432\n",
      "Epoch 84/100\n",
      "18/18 [==============================] - 76s 4s/step - loss: 0.1668 - accuracy: 0.9415 - val_loss: 0.2617 - val_accuracy: 0.9409\n",
      "Epoch 85/100\n",
      "18/18 [==============================] - 77s 4s/step - loss: 0.1563 - accuracy: 0.9472 - val_loss: 0.2652 - val_accuracy: 0.9318\n",
      "Epoch 86/100\n",
      "18/18 [==============================] - 78s 4s/step - loss: 0.1437 - accuracy: 0.9443 - val_loss: 0.2286 - val_accuracy: 0.9432\n",
      "Epoch 87/100\n",
      "18/18 [==============================] - 85s 5s/step - loss: 0.1436 - accuracy: 0.9409 - val_loss: 0.2071 - val_accuracy: 0.9591\n",
      "Epoch 88/100\n",
      "18/18 [==============================] - 84s 5s/step - loss: 0.1357 - accuracy: 0.9477 - val_loss: 0.2108 - val_accuracy: 0.9523\n",
      "Epoch 89/100\n",
      "18/18 [==============================] - 80s 4s/step - loss: 0.1558 - accuracy: 0.9358 - val_loss: 0.2444 - val_accuracy: 0.9409\n",
      "Epoch 90/100\n",
      "18/18 [==============================] - 81s 4s/step - loss: 0.1224 - accuracy: 0.9523 - val_loss: 0.2087 - val_accuracy: 0.9523\n",
      "Epoch 91/100\n",
      "18/18 [==============================] - 77s 4s/step - loss: 0.0974 - accuracy: 0.9619 - val_loss: 0.2470 - val_accuracy: 0.9409\n",
      "Epoch 92/100\n",
      "18/18 [==============================] - 79s 4s/step - loss: 0.1142 - accuracy: 0.9523 - val_loss: 0.2627 - val_accuracy: 0.9386\n",
      "Epoch 93/100\n",
      "18/18 [==============================] - 77s 4s/step - loss: 0.1038 - accuracy: 0.9631 - val_loss: 0.2525 - val_accuracy: 0.9500\n",
      "Epoch 94/100\n",
      "18/18 [==============================] - 77s 4s/step - loss: 0.1100 - accuracy: 0.9585 - val_loss: 0.3060 - val_accuracy: 0.9364\n",
      "Epoch 95/100\n",
      "18/18 [==============================] - 77s 4s/step - loss: 0.1155 - accuracy: 0.9563 - val_loss: 0.3291 - val_accuracy: 0.9227\n",
      "Epoch 96/100\n",
      "18/18 [==============================] - 79s 4s/step - loss: 0.0951 - accuracy: 0.9591 - val_loss: 0.2386 - val_accuracy: 0.9477\n",
      "Epoch 97/100\n",
      "18/18 [==============================] - 83s 4s/step - loss: 0.1522 - accuracy: 0.9449 - val_loss: 0.3536 - val_accuracy: 0.9091\n",
      "Epoch 98/100\n",
      "18/18 [==============================] - 81s 4s/step - loss: 0.1240 - accuracy: 0.9591 - val_loss: 0.2381 - val_accuracy: 0.9432\n",
      "Epoch 99/100\n",
      "18/18 [==============================] - 79s 4s/step - loss: 0.1068 - accuracy: 0.9585 - val_loss: 0.2158 - val_accuracy: 0.9364\n",
      "Epoch 100/100\n",
      "18/18 [==============================] - 74s 4s/step - loss: 0.1203 - accuracy: 0.9597 - val_loss: 0.2259 - val_accuracy: 0.9500\n"
     ]
    }
   ],
   "source": [
    "model = create_model()\n",
    "callbacks = Callback()\n",
    "history = model.fit(train_generator,\n",
    "                    epochs=100,\n",
    "                    verbose=1,\n",
    "                    callbacks=[callbacks],\n",
    "                    validation_data=validation_generator)"
   ]
  },
  {
   "cell_type": "code",
   "execution_count": 34,
   "metadata": {},
   "outputs": [
    {
     "data": {
      "image/png": "[encoded data removed]",
      "text/plain": [
       "<Figure size 432x288 with 1 Axes>"
      ]
     },
     "metadata": {
      "needs_background": "light"
     },
     "output_type": "display_data"
    },
    {
     "data": {
      "text/plain": [
       "<Figure size 432x288 with 0 Axes>"
      ]
     },
     "metadata": {},
     "output_type": "display_data"
    },
    {
     "data": {
      "image/png": "[encoded data removed]",
      "text/plain": [
       "<Figure size 432x288 with 1 Axes>"
      ]
     },
     "metadata": {
      "needs_background": "light"
     },
     "output_type": "display_data"
    },
    {
     "data": {
      "text/plain": [
       "<Figure size 432x288 with 0 Axes>"
      ]
     },
     "metadata": {},
     "output_type": "display_data"
    }
   ],
   "source": [
    "acc = history.history['accuracy']\n",
    "val_acc = history.history['val_accuracy']\n",
    "loss = history.history['loss']\n",
    "val_loss = history.history['val_loss']\n",
    "\n",
    "epochs = range(len(acc))\n",
    "\n",
    "plt.plot(epochs, acc, 'r', label='Training accuracy')\n",
    "plt.plot(epochs, val_acc, 'b', label='Validation accuracy')\n",
    "plt.title('Training and validation accuracy')\n",
    "plt.legend(loc=0)\n",
    "plt.figure()\n",
    "\n",
    "plt.show()\n",
    "\n",
    "plt.plot(epochs, loss, 'r', label='Training Loss')\n",
    "plt.plot(epochs, val_loss, 'b', label='Validation Loss')\n",
    "plt.title('Training and validation loss')\n",
    "plt.legend(loc=0)\n",
    "plt.figure()\n",
    "\n",
    "plt.show()"
   ]
  },
  {
   "cell_type": "code",
   "execution_count": 38,
   "metadata": {
    "scrolled": true
   },
   "outputs": [
    {
     "name": "stdout",
     "output_type": "stream",
     "text": [
      "['11-8-12-21.jpg', 'blood-in-chicken-dropping.jpg', 'coccio-testing3.webp', 'Fåsse_pesse_des_poyes_vete_schite.jpg', 'health-testing5.jpg', 'healthy.683.jpg', 'ncd-testing1.webp', 'Newcastle-disease-symptom-green-color-feces.webp', 'salmo.2127.jpg']\n",
      "\n",
      "./TFLite_Pred/11-8-12-21.jpg\n",
      "Your chicken got Coccidiosis\n",
      "\n",
      "./TFLite_Pred/blood-in-chicken-dropping.jpg\n",
      "Your chicken got Salmonella\n",
      "\n",
      "./TFLite_Pred/coccio-testing3.webp\n",
      "Your chicken got Coccidiosis\n",
      "\n",
      "./TFLite_Pred/Fåsse_pesse_des_poyes_vete_schite.jpg\n",
      "Your chicken got New Castle Disease\n",
      "\n",
      "./TFLite_Pred/health-testing5.jpg\n",
      "Your chicken got Coccidiosis\n",
      "\n",
      "./TFLite_Pred/healthy.683.jpg\n",
      "Your chicken got Coccidiosis\n",
      "\n",
      "./TFLite_Pred/ncd-testing1.webp\n",
      "Your chicken got New Castle Disease\n",
      "\n",
      "./TFLite_Pred/Newcastle-disease-symptom-green-color-feces.webp\n",
      "Your chicken got New Castle Disease\n",
      "\n",
      "./TFLite_Pred/salmo.2127.jpg\n",
      "Your chicken got Salmonella\n"
     ]
    }
   ],
   "source": [
    "import os\n",
    "import numpy as np\n",
    "from keras.preprocessing import image\n",
    "\n",
    "images = os.listdir(\"./TFLite_Pred\")\n",
    "\n",
    "print(images)\n",
    "\n",
    "for i in images:\n",
    "    print()\n",
    "#     # predicting images\n",
    "    path = './TFLite_Pred/' + i\n",
    "    img = image.load_img(path, target_size=(224, 224))\n",
    "    x = image.img_to_array(img)\n",
    "    x = np.expand_dims(x, axis=0)\n",
    "    \n",
    "    images = np.vstack([x])\n",
    "    classes = model.predict(images, batch_size=10)\n",
    "    print(path)\n",
    "    if classes[0][0] > classes[0][1] and classes[0][0] > classes[0][2] and classes[0][0] > classes[0][3]   :\n",
    "        print(\"Your chicken got Coccidiosis\")\n",
    "    elif classes[0][1] > classes[0][0] and classes[0][1] > classes[0][2] and classes[0][1] > classes[0][3] :\n",
    "        print(\"Your chicken is Healthy\")\n",
    "    elif classes[0][2] > classes [0][0] and classes[0][2] > classes [0][1] and classes[0][2] > classes [0][3] :\n",
    "        print(\"Your chicken got New Castle Disease\")\n",
    "    elif classes[0][3] > classes [0][0] and classes[0][3] > classes [0][1] and classes[0][3] > classes [0][2] :\n",
    "        print(\"Your chicken got Salmonella\")"
   ]
  },
  {
   "cell_type": "code",
   "execution_count": 16,
   "metadata": {},
   "outputs": [
    {
     "name": "stdout",
     "output_type": "stream",
     "text": [
      "Model: \"sequential\"\n",
      "_________________________________________________________________\n",
      " Layer (type)                Output Shape              Param #   \n",
      "=================================================================\n",
      " conv2d (Conv2D)             (None, 222, 222, 32)      896       \n",
      "                                                                 \n",
      " max_pooling2d (MaxPooling2D  (None, 111, 111, 32)     0         \n",
      " )                                                               \n",
      "                                                                 \n",
      " conv2d_1 (Conv2D)           (None, 109, 109, 64)      18496     \n",
      "                                                                 \n",
      " max_pooling2d_1 (MaxPooling  (None, 54, 54, 64)       0         \n",
      " 2D)                                                             \n",
      "                                                                 \n",
      " conv2d_2 (Conv2D)           (None, 52, 52, 128)       73856     \n",
      "                                                                 \n",
      " max_pooling2d_2 (MaxPooling  (None, 26, 26, 128)      0         \n",
      " 2D)                                                             \n",
      "                                                                 \n",
      " conv2d_3 (Conv2D)           (None, 24, 24, 256)       295168    \n",
      "                                                                 \n",
      " max_pooling2d_3 (MaxPooling  (None, 12, 12, 256)      0         \n",
      " 2D)                                                             \n",
      "                                                                 \n",
      " flatten (Flatten)           (None, 36864)             0         \n",
      "                                                                 \n",
      " dropout (Dropout)           (None, 36864)             0         \n",
      "                                                                 \n",
      " dense (Dense)               (None, 512)               18874880  \n",
      "                                                                 \n",
      " dense_1 (Dense)             (None, 4)                 2052      \n",
      "                                                                 \n",
      "=================================================================\n",
      "Total params: 19,265,348\n",
      "Trainable params: 19,265,348\n",
      "Non-trainable params: 0\n",
      "_________________________________________________________________\n"
     ]
    }
   ],
   "source": [
    "model.summary()"
   ]
  },
  {
   "cell_type": "markdown",
   "metadata": {},
   "source": [
    "## EXPORTING to TFLite"
   ]
  },
  {
   "cell_type": "code",
   "execution_count": 40,
   "metadata": {},
   "outputs": [
    {
     "name": "stdout",
     "output_type": "stream",
     "text": [
      "INFO:tensorflow:Assets written to: final_model/1\\assets\n"
     ]
    },
    {
     "name": "stderr",
     "output_type": "stream",
     "text": [
      "INFO:tensorflow:Assets written to: final_model/1\\assets\n"
     ]
    }
   ],
   "source": [
    "\n",
    "export_dir = 'final_model/1'\n",
    "\n",
    "tf.saved_model.save(model, export_dir)"
   ]
  },
  {
   "cell_type": "code",
   "execution_count": 41,
   "metadata": {},
   "outputs": [],
   "source": [
    "# Select mode of optimization\n",
    "mode = \"Speed\" \n",
    "\n",
    "if mode == 'Storage':\n",
    "    optimization = tf.lite.Optimize.OPTIMIZE_FOR_SIZE\n",
    "elif mode == 'Speed':\n",
    "    optimization = tf.lite.Optimize.OPTIMIZE_FOR_LATENCY\n",
    "else:\n",
    "    optimization = tf.lite.Optimize.DEFAULT"
   ]
  },
  {
   "cell_type": "code",
   "execution_count": 46,
   "metadata": {},
   "outputs": [
    {
     "name": "stderr",
     "output_type": "stream",
     "text": [
      "WARNING:absl:Optimization option OPTIMIZE_FOR_LATENCY is deprecated, please use optimizations=[Optimize.DEFAULT] instead.\n",
      "WARNING:absl:Optimization option OPTIMIZE_FOR_LATENCY is deprecated, please use optimizations=[Optimize.DEFAULT] instead.\n",
      "WARNING:absl:Optimization option OPTIMIZE_FOR_LATENCY is deprecated, please use optimizations=[Optimize.DEFAULT] instead.\n",
      "WARNING:absl:Buffer deduplication procedure will be skipped when flatbuffer library is not properly loaded\n"
     ]
    }
   ],
   "source": [
    "\n",
    "\n",
    "converter = tf.lite.TFLiteConverter.from_saved_model(export_dir)\n",
    "\n",
    "# Set the optimzations\n",
    "converter.optimizations = [tf.lite.Optimize.OPTIMIZE_FOR_LATENCY]\n",
    "\n",
    "# Invoke the converter to finally generate the TFLite model\n",
    "tflite_model = converter.convert()"
   ]
  },
  {
   "cell_type": "code",
   "execution_count": 47,
   "metadata": {},
   "outputs": [
    {
     "data": {
      "text/plain": [
       "19284576"
      ]
     },
     "execution_count": 47,
     "metadata": {},
     "output_type": "execute_result"
    }
   ],
   "source": [
    "tflite_model_file = pathlib.Path('./chicky_final_model.tflite')\n",
    "tflite_model_file.write_bytes(tflite_model)"
   ]
  },
  {
   "cell_type": "markdown",
   "metadata": {},
   "source": [
    "## Test the MODEL with TFLite Interpreter"
   ]
  },
  {
   "cell_type": "code",
   "execution_count": 48,
   "metadata": {},
   "outputs": [],
   "source": [
    "# Load TFLite model and allocate tensors.\n",
    "interpreter = tf.lite.Interpreter(model_content=tflite_model)\n",
    "interpreter.allocate_tensors()\n",
    "\n",
    "# Get input and output tensors.\n",
    "input_details = interpreter.get_input_details()\n",
    "output_details = interpreter.get_output_details()"
   ]
  },
  {
   "cell_type": "code",
   "execution_count": 49,
   "metadata": {},
   "outputs": [
    {
     "name": "stdout",
     "output_type": "stream",
     "text": [
      "filename : 11-8-12-21.jpg\n",
      "Your chicken identified Cocciodiosis\n",
      "filename : blood-in-chicken-dropping.jpg\n",
      "Your chicken identified Salmonella\n",
      "filename : coccio-testing3.webp\n",
      "Your chicken identified Cocciodiosis\n",
      "filename : Fåsse_pesse_des_poyes_vete_schite.jpg\n",
      "Your chicken identified New Castle Disease\n",
      "filename : health-testing5.jpg\n",
      "Your chicken identified Cocciodiosis\n",
      "filename : healthy.683.jpg\n",
      "Your chicken identified Cocciodiosis\n",
      "filename : healthy.76.jpg\n",
      "Your chicken identified Cocciodiosis\n",
      "filename : ncd-testing1.webp\n",
      "Your chicken identified Salmonella\n",
      "filename : Newcastle-disease-symptom-green-color-feces.webp\n",
      "Your chicken identified New Castle Disease\n",
      "filename : salmo.2127.jpg\n",
      "Your chicken identified Salmonella\n"
     ]
    }
   ],
   "source": [
    "# Gather results for the randomly sampled test images\n",
    "from PIL import Image\n",
    "result= []\n",
    "images = os.listdir(\"./TFLite_Pred\")\n",
    "classes = [\"Cocciodiosis\", \"Healthy\", \"New Castle Disease\", \"Salmonella\"]\n",
    "for img in images :\n",
    "    print(\"filename : \" + img)\n",
    "    image = Image.open(os.path.join(\"./TFLite_Pred\", img)).resize((224,224))\n",
    "    image = np.expand_dims(image, axis=0)\n",
    "    input_data = np.array(np.asarray(image), dtype = np.float32)\n",
    "    interpreter.set_tensor(input_details[0]['index'], input_data)\n",
    "    interpreter.invoke()\n",
    "    output_data = interpreter.get_tensor(output_details[0]['index'])\n",
    "    print(\"Your chicken identified \" + classes[np.argmax(output_data)])"
   ]
  },
  {
   "cell_type": "code",
   "execution_count": null,
   "metadata": {},
   "outputs": [],
   "source": []
  }
 ],
 "metadata": {
  "colab": {
   "collapsed_sections": [],
   "name": "chicken",
   "provenance": []
  },
  "kernelspec": {
   "display_name": "Python 3 (ipykernel)",
   "language": "python",
   "name": "python3"
  },
  "language_info": {
   "codemirror_mode": {
    "name": "ipython",
    "version": 3
   },
   "file_extension": ".py",
   "mimetype": "text/x-python",
   "name": "python",
   "nbconvert_exporter": "python",
   "pygments_lexer": "ipython3",
   "version": "3.9.7"
  }
 },
 "nbformat": 4,
 "nbformat_minor": 1
}
